{
 "cells": [
  {
   "cell_type": "code",
   "execution_count": 1,
   "metadata": {},
   "outputs": [
    {
     "name": "stderr",
     "output_type": "stream",
     "text": [
      "Using TensorFlow backend.\n"
     ]
    }
   ],
   "source": [
    "import keras\n",
    "import tensorflow as tf\n",
    "import matplotlib.pyplot as plt"
   ]
  },
  {
   "cell_type": "code",
   "execution_count": 2,
   "metadata": {},
   "outputs": [],
   "source": [
    "from keras.datasets import cifar100"
   ]
  },
  {
   "cell_type": "code",
   "execution_count": 3,
   "metadata": {},
   "outputs": [],
   "source": [
    "(x_train , y_train),(x_test,y_test) = cifar100.load_data()"
   ]
  },
  {
   "cell_type": "code",
   "execution_count": 4,
   "metadata": {},
   "outputs": [
    {
     "data": {
      "text/plain": [
       "(50000, 32, 32, 3)"
      ]
     },
     "execution_count": 4,
     "metadata": {},
     "output_type": "execute_result"
    }
   ],
   "source": [
    "x_train.shape"
   ]
  },
  {
   "cell_type": "code",
   "execution_count": 5,
   "metadata": {},
   "outputs": [
    {
     "data": {
      "text/plain": [
       "(10000, 32, 32, 3)"
      ]
     },
     "execution_count": 5,
     "metadata": {},
     "output_type": "execute_result"
    }
   ],
   "source": [
    "x_test.shape"
   ]
  },
  {
   "cell_type": "code",
   "execution_count": 6,
   "metadata": {},
   "outputs": [],
   "source": [
    "x_train , x_test = x_train/255.0 , x_test/255.0"
   ]
  },
  {
   "cell_type": "code",
   "execution_count": 7,
   "metadata": {},
   "outputs": [],
   "source": [
    "from keras.models import Sequential\n",
    "from keras.layers import Dense"
   ]
  },
  {
   "cell_type": "code",
   "execution_count": 8,
   "metadata": {},
   "outputs": [],
   "source": [
    "model=tf.keras.models.Sequential([\n",
    "tf.keras.layers.Conv2D(32,(3,3),activation='relu',input_shape=(32,32,3)),\n",
    "tf.keras.layers.MaxPooling2D((2, 2)),\n",
    "tf.keras.layers.Conv2D(64,(3,3),activation='relu'),\n",
    "tf.keras.layers.MaxPooling2D((2, 2)),\n",
    "tf.keras.layers.Conv2D(64,(3,3),activation='relu'),\n",
    "tf.keras.layers.Flatten(),\n",
    "tf.keras.layers.Dense(128,activation='relu'),\n",
    "tf.keras.layers.Dense(100)\n",
    "])"
   ]
  },
  {
   "cell_type": "code",
   "execution_count": 9,
   "metadata": {},
   "outputs": [
    {
     "name": "stdout",
     "output_type": "stream",
     "text": [
      "Model: \"sequential\"\n",
      "_________________________________________________________________\n",
      "Layer (type)                 Output Shape              Param #   \n",
      "=================================================================\n",
      "conv2d (Conv2D)              (None, 30, 30, 32)        896       \n",
      "_________________________________________________________________\n",
      "max_pooling2d (MaxPooling2D) (None, 15, 15, 32)        0         \n",
      "_________________________________________________________________\n",
      "conv2d_1 (Conv2D)            (None, 13, 13, 64)        18496     \n",
      "_________________________________________________________________\n",
      "max_pooling2d_1 (MaxPooling2 (None, 6, 6, 64)          0         \n",
      "_________________________________________________________________\n",
      "conv2d_2 (Conv2D)            (None, 4, 4, 64)          36928     \n",
      "_________________________________________________________________\n",
      "flatten (Flatten)            (None, 1024)              0         \n",
      "_________________________________________________________________\n",
      "dense (Dense)                (None, 128)               131200    \n",
      "_________________________________________________________________\n",
      "dense_1 (Dense)              (None, 100)               12900     \n",
      "=================================================================\n",
      "Total params: 200,420\n",
      "Trainable params: 200,420\n",
      "Non-trainable params: 0\n",
      "_________________________________________________________________\n"
     ]
    }
   ],
   "source": [
    "model.summary(())"
   ]
  },
  {
   "cell_type": "code",
   "execution_count": 10,
   "metadata": {},
   "outputs": [],
   "source": [
    "model.compile(loss='categorical_crossentropy',\n",
    "              metrics=['accuracy'],\n",
    "              optimizer='adam')"
   ]
  },
  {
   "cell_type": "code",
   "execution_count": 11,
   "metadata": {
    "scrolled": true
   },
   "outputs": [
    {
     "name": "stdout",
     "output_type": "stream",
     "text": [
      "Epoch 1/30\n",
      "1563/1563 [==============================] - 39s 25ms/step - loss: 4.5893 - accuracy: 0.0150 - val_loss: 4.5143 - val_accuracy: 0.0243\n",
      "Epoch 2/30\n",
      "1563/1563 [==============================] - 40s 26ms/step - loss: 4.3242 - accuracy: 0.0409 - val_loss: 4.1643 - val_accuracy: 0.0573\n",
      "Epoch 3/30\n",
      "1563/1563 [==============================] - 41s 26ms/step - loss: 4.0181 - accuracy: 0.0868 - val_loss: 3.8893 - val_accuracy: 0.1119\n",
      "Epoch 4/30\n",
      "1563/1563 [==============================] - 38s 25ms/step - loss: 3.7795 - accuracy: 0.1296 - val_loss: 3.6805 - val_accuracy: 0.1451\n",
      "Epoch 5/30\n",
      "1563/1563 [==============================] - 38s 24ms/step - loss: 3.5874 - accuracy: 0.1630 - val_loss: 3.5519 - val_accuracy: 0.1710\n",
      "Epoch 6/30\n",
      "1563/1563 [==============================] - 38s 24ms/step - loss: 3.4194 - accuracy: 0.1890 - val_loss: 3.4074 - val_accuracy: 0.1948\n",
      "Epoch 7/30\n",
      "1563/1563 [==============================] - 38s 24ms/step - loss: 3.2727 - accuracy: 0.2155 - val_loss: 3.2712 - val_accuracy: 0.2218\n",
      "Epoch 8/30\n",
      "1563/1563 [==============================] - 38s 25ms/step - loss: 3.1365 - accuracy: 0.2428 - val_loss: 3.1711 - val_accuracy: 0.2332\n",
      "Epoch 9/30\n",
      "1563/1563 [==============================] - 38s 25ms/step - loss: 3.0211 - accuracy: 0.2604 - val_loss: 3.0798 - val_accuracy: 0.2567\n",
      "Epoch 10/30\n",
      "1563/1563 [==============================] - 38s 25ms/step - loss: 2.9198 - accuracy: 0.2831 - val_loss: 3.0246 - val_accuracy: 0.2681\n",
      "Epoch 11/30\n",
      "1563/1563 [==============================] - 39s 25ms/step - loss: 2.8276 - accuracy: 0.2992 - val_loss: 3.0140 - val_accuracy: 0.2691\n",
      "Epoch 12/30\n",
      "1563/1563 [==============================] - 39s 25ms/step - loss: 2.7457 - accuracy: 0.3158 - val_loss: 2.8613 - val_accuracy: 0.2959\n",
      "Epoch 13/30\n",
      "1563/1563 [==============================] - 39s 25ms/step - loss: 2.6731 - accuracy: 0.3327 - val_loss: 2.8244 - val_accuracy: 0.3028\n",
      "Epoch 14/30\n",
      "1563/1563 [==============================] - 41s 26ms/step - loss: 2.6024 - accuracy: 0.3472 - val_loss: 2.8119 - val_accuracy: 0.3113\n",
      "Epoch 15/30\n",
      "1563/1563 [==============================] - 45s 29ms/step - loss: 2.5366 - accuracy: 0.3579 - val_loss: 2.8216 - val_accuracy: 0.3114\n",
      "Epoch 16/30\n",
      "1563/1563 [==============================] - 39s 25ms/step - loss: 2.4727 - accuracy: 0.3710 - val_loss: 2.7707 - val_accuracy: 0.3195\n",
      "Epoch 17/30\n",
      "1563/1563 [==============================] - 39s 25ms/step - loss: 2.4163 - accuracy: 0.3827 - val_loss: 2.8294 - val_accuracy: 0.3172\n",
      "Epoch 18/30\n",
      "1563/1563 [==============================] - 39s 25ms/step - loss: 2.3605 - accuracy: 0.3958 - val_loss: 2.6997 - val_accuracy: 0.3314\n",
      "Epoch 19/30\n",
      "1563/1563 [==============================] - 39s 25ms/step - loss: 2.3001 - accuracy: 0.4077 - val_loss: 2.6575 - val_accuracy: 0.3420\n",
      "Epoch 20/30\n",
      "1563/1563 [==============================] - 40s 25ms/step - loss: 2.2479 - accuracy: 0.4181 - val_loss: 2.7436 - val_accuracy: 0.3337\n",
      "Epoch 21/30\n",
      "1563/1563 [==============================] - 38s 25ms/step - loss: 2.1994 - accuracy: 0.4314 - val_loss: 2.7279 - val_accuracy: 0.3296\n",
      "Epoch 22/30\n",
      "1563/1563 [==============================] - 38s 24ms/step - loss: 2.1454 - accuracy: 0.4407 - val_loss: 2.6628 - val_accuracy: 0.3491\n",
      "Epoch 23/30\n",
      "1563/1563 [==============================] - 39s 25ms/step - loss: 2.0984 - accuracy: 0.4521 - val_loss: 2.6983 - val_accuracy: 0.3428\n",
      "Epoch 24/30\n",
      "1563/1563 [==============================] - 40s 26ms/step - loss: 2.0495 - accuracy: 0.4611 - val_loss: 2.6512 - val_accuracy: 0.3604\n",
      "Epoch 25/30\n",
      "1563/1563 [==============================] - 40s 26ms/step - loss: 2.0066 - accuracy: 0.4685 - val_loss: 2.6172 - val_accuracy: 0.3594\n",
      "Epoch 26/30\n",
      "1563/1563 [==============================] - 38s 24ms/step - loss: 1.9643 - accuracy: 0.4798 - val_loss: 2.6438 - val_accuracy: 0.3613\n",
      "Epoch 27/30\n",
      "1563/1563 [==============================] - 37s 24ms/step - loss: 1.9221 - accuracy: 0.4887 - val_loss: 2.6359 - val_accuracy: 0.3635\n",
      "Epoch 28/30\n",
      "1563/1563 [==============================] - 38s 24ms/step - loss: 1.8754 - accuracy: 0.4987 - val_loss: 2.6944 - val_accuracy: 0.3546\n",
      "Epoch 29/30\n",
      "1563/1563 [==============================] - 40s 26ms/step - loss: 1.8325 - accuracy: 0.5090 - val_loss: 2.6732 - val_accuracy: 0.3655\n",
      "Epoch 30/30\n",
      "1563/1563 [==============================] - 40s 26ms/step - loss: 1.7929 - accuracy: 0.5189 - val_loss: 2.7762 - val_accuracy: 0.3551\n"
     ]
    }
   ],
   "source": [
    "model.compile(optimizer='sgd',loss=tf.keras.losses.SparseCategoricalCrossentropy(from_logits=True),metrics=['accuracy'])\n",
    "\n",
    "cb=tf.keras.callbacks.EarlyStopping(patience=3,monitor='val_accuracy',restore_best_weights=True)\n",
    "\n",
    "history=model.fit(x_train,y_train,epochs=30,validation_data=(x_test,y_test),callbacks=[cb])"
   ]
  },
  {
   "cell_type": "code",
   "execution_count": 12,
   "metadata": {},
   "outputs": [
    {
     "name": "stdout",
     "output_type": "stream",
     "text": [
      "313/313 - 3s - loss: 2.7762 - accuracy: 0.3551\n"
     ]
    },
    {
     "data": {
      "image/png": "[encoded data removed]",
      "text/plain": [
       "<Figure size 432x288 with 1 Axes>"
      ]
     },
     "metadata": {
      "needs_background": "light"
     },
     "output_type": "display_data"
    }
   ],
   "source": [
    "plt.plot(history.history['accuracy'], label='accuracy')\n",
    "plt.plot(history.history['val_accuracy'], label = 'val_accuracy')\n",
    "plt.xlabel('Epoch')\n",
    "plt.ylabel('Accuracy')\n",
    "plt.ylim([0.2,0.6])\n",
    "plt.legend(loc='upper right')\n",
    "\n",
    "test_loss, test_acc = model.evaluate(x_test,y_test, verbose=2)"
   ]
  },
  {
   "cell_type": "markdown",
   "metadata": {},
   "source": [
    "# Fashion MNIST "
   ]
  },
  {
   "cell_type": "code",
   "execution_count": 13,
   "metadata": {},
   "outputs": [],
   "source": [
    "#Fashion MNIST\n",
    "import tensorflow as tf\n",
    "from tensorflow.keras.datasets import fashion_mnist\n",
    "from tensorflow.keras.layers import Dense,Dropout,Conv2D,Flatten,Activation\n",
    "from tensorflow.keras.models import Sequential\n",
    "from tensorflow.keras.utils import to_categorical"
   ]
  },
  {
   "cell_type": "code",
   "execution_count": 14,
   "metadata": {},
   "outputs": [],
   "source": [
    "(X_train,y_train),(X_test,y_test)=fashion_mnist.load_data()"
   ]
  },
  {
   "cell_type": "code",
   "execution_count": 15,
   "metadata": {},
   "outputs": [],
   "source": [
    "X_train=X_train.reshape(60000,28*28*1)\n",
    "X_test=X_test.reshape(10000,28*28*1)\n",
    "\n",
    "X_train=X_train.astype('float32')\n",
    "X_test=X_test.astype('float32')\n",
    "\n",
    "#preprocessing\n",
    "X_train/=255.0\n",
    "X_test/=255.0\n",
    "\n",
    "y_train=to_categorical(y_train,10)\n",
    "y_test=to_categorical(y_test,10)"
   ]
  },
  {
   "cell_type": "code",
   "execution_count": 16,
   "metadata": {
    "scrolled": true
   },
   "outputs": [
    {
     "name": "stdout",
     "output_type": "stream",
     "text": [
      "Epoch 1/50\n",
      "1875/1875 [==============================] - 18s 10ms/step - loss: 0.6571 - accuracy: 0.7793 - val_loss: 0.5263 - val_accuracy: 0.8090\n",
      "Epoch 2/50\n",
      "1875/1875 [==============================] - 18s 9ms/step - loss: 0.4462 - accuracy: 0.8420 - val_loss: 0.4443 - val_accuracy: 0.8411\n",
      "Epoch 3/50\n",
      "1875/1875 [==============================] - 17s 9ms/step - loss: 0.4000 - accuracy: 0.8586 - val_loss: 0.4316 - val_accuracy: 0.8472\n",
      "Epoch 4/50\n",
      "1875/1875 [==============================] - 17s 9ms/step - loss: 0.3721 - accuracy: 0.8678 - val_loss: 0.3977 - val_accuracy: 0.8574\n",
      "Epoch 5/50\n",
      "1875/1875 [==============================] - 17s 9ms/step - loss: 0.3517 - accuracy: 0.8738 - val_loss: 0.3814 - val_accuracy: 0.8630\n",
      "Epoch 6/50\n",
      "1875/1875 [==============================] - 17s 9ms/step - loss: 0.3339 - accuracy: 0.8792 - val_loss: 0.3835 - val_accuracy: 0.8634\n",
      "Epoch 7/50\n",
      "1875/1875 [==============================] - 17s 9ms/step - loss: 0.3201 - accuracy: 0.8846 - val_loss: 0.3618 - val_accuracy: 0.8691\n",
      "Epoch 8/50\n",
      "1875/1875 [==============================] - 17s 9ms/step - loss: 0.3068 - accuracy: 0.8883 - val_loss: 0.3835 - val_accuracy: 0.8548\n",
      "Epoch 9/50\n",
      "1875/1875 [==============================] - 17s 9ms/step - loss: 0.2961 - accuracy: 0.8923 - val_loss: 0.3516 - val_accuracy: 0.8712\n",
      "Epoch 10/50\n",
      "1875/1875 [==============================] - 17s 9ms/step - loss: 0.2868 - accuracy: 0.8947 - val_loss: 0.3641 - val_accuracy: 0.8680\n",
      "Epoch 11/50\n",
      "1875/1875 [==============================] - 17s 9ms/step - loss: 0.2768 - accuracy: 0.8981 - val_loss: 0.3340 - val_accuracy: 0.8791\n",
      "Epoch 12/50\n",
      "1875/1875 [==============================] - 17s 9ms/step - loss: 0.2682 - accuracy: 0.9014 - val_loss: 0.3332 - val_accuracy: 0.8791\n",
      "Epoch 13/50\n",
      "1875/1875 [==============================] - 17s 9ms/step - loss: 0.2595 - accuracy: 0.9048 - val_loss: 0.3310 - val_accuracy: 0.8809\n",
      "Epoch 14/50\n",
      "1875/1875 [==============================] - 17s 9ms/step - loss: 0.2521 - accuracy: 0.9069 - val_loss: 0.3346 - val_accuracy: 0.8802\n",
      "Epoch 15/50\n",
      "1875/1875 [==============================] - 17s 9ms/step - loss: 0.2446 - accuracy: 0.9111 - val_loss: 0.3255 - val_accuracy: 0.8839\n",
      "Epoch 16/50\n",
      "1875/1875 [==============================] - 17s 9ms/step - loss: 0.2384 - accuracy: 0.9133 - val_loss: 0.3415 - val_accuracy: 0.8780\n",
      "Epoch 17/50\n",
      "1875/1875 [==============================] - 17s 9ms/step - loss: 0.2315 - accuracy: 0.9157 - val_loss: 0.3144 - val_accuracy: 0.8880\n",
      "Epoch 18/50\n",
      "1875/1875 [==============================] - 17s 9ms/step - loss: 0.2251 - accuracy: 0.9175 - val_loss: 0.3193 - val_accuracy: 0.8856\n",
      "Epoch 19/50\n",
      "1875/1875 [==============================] - 18s 9ms/step - loss: 0.2191 - accuracy: 0.9204 - val_loss: 0.3164 - val_accuracy: 0.8855\n",
      "Epoch 20/50\n",
      "1875/1875 [==============================] - 17s 9ms/step - loss: 0.2122 - accuracy: 0.9233 - val_loss: 0.3099 - val_accuracy: 0.8895\n",
      "Epoch 21/50\n",
      "1875/1875 [==============================] - 17s 9ms/step - loss: 0.2070 - accuracy: 0.9250 - val_loss: 0.3220 - val_accuracy: 0.8876\n",
      "Epoch 22/50\n",
      "1875/1875 [==============================] - 17s 9ms/step - loss: 0.2013 - accuracy: 0.9271 - val_loss: 0.3133 - val_accuracy: 0.8925\n",
      "Epoch 23/50\n",
      "1875/1875 [==============================] - 17s 9ms/step - loss: 0.1944 - accuracy: 0.9295 - val_loss: 0.3189 - val_accuracy: 0.8825\n",
      "Epoch 24/50\n",
      "1875/1875 [==============================] - 17s 9ms/step - loss: 0.1897 - accuracy: 0.9305 - val_loss: 0.3076 - val_accuracy: 0.8917\n",
      "Epoch 25/50\n",
      "1875/1875 [==============================] - 17s 9ms/step - loss: 0.1844 - accuracy: 0.9330 - val_loss: 0.3265 - val_accuracy: 0.8824\n"
     ]
    }
   ],
   "source": [
    "initializers=tf.keras.initializers.glorot_normal()\n",
    "\n",
    "model=tf.keras.models.Sequential([\n",
    "tf.keras.layers.Dense(1024,input_dim=784,kernel_initializer=initializers,bias_initializer=initializers,activation='relu'),\n",
    "tf.keras.layers.Dense(512,kernel_initializer=initializers,bias_initializer=initializers,activation='relu'),\n",
    "tf.keras.layers.Dense(256,kernel_initializer=initializers,bias_initializer=initializers,activation='relu'),\n",
    "tf.keras.layers.Dense(10,kernel_initializer=initializers,bias_initializer=initializers,activation='softmax')])\n",
    "\n",
    "#compile\n",
    "model.compile(optimizer='sgd',loss='categorical_crossentropy',metrics=['accuracy'])\n",
    "\n",
    "cb=tf.keras.callbacks.EarlyStopping(patience=3,monitor='val_accuracy',restore_best_weights=True)\n",
    "\n",
    "history=model.fit(X_train,y_train,epochs=50,validation_data=(X_test,y_test),callbacks=[cb])"
   ]
  },
  {
   "cell_type": "code",
   "execution_count": 17,
   "metadata": {},
   "outputs": [
    {
     "name": "stdout",
     "output_type": "stream",
     "text": [
      "313/313 - 1s - loss: 0.3133 - accuracy: 0.8925\n"
     ]
    },
    {
     "data": {
      "image/png": "[encoded data removed]",
      "text/plain": [
       "<Figure size 432x288 with 1 Axes>"
      ]
     },
     "metadata": {
      "needs_background": "light"
     },
     "output_type": "display_data"
    }
   ],
   "source": [
    "import matplotlib.pyplot as plt\n",
    "\n",
    "plt.plot(history.history['accuracy'], label='accuracy')\n",
    "plt.plot(history.history['val_accuracy'], label = 'val_accuracy')\n",
    "plt.xlabel('Epoch')\n",
    "plt.ylabel('Accuracy')\n",
    "plt.ylim([0.5,1])\n",
    "plt.legend(loc='upper right')\n",
    "\n",
    "test_loss, test_acc = model.evaluate(X_test,y_test, verbose=2)"
   ]
  },
  {
   "cell_type": "markdown",
   "metadata": {},
   "source": [
    "# MNIST"
   ]
  },
  {
   "cell_type": "code",
   "execution_count": 18,
   "metadata": {},
   "outputs": [
    {
     "name": "stdout",
     "output_type": "stream",
     "text": [
      "Downloading data from https://s3.amazonaws.com/img-datasets/mnist.npz\n",
      "11493376/11490434 [==============================] - 18s 2us/step\n"
     ]
    }
   ],
   "source": [
    "import tensorflow as tf\n",
    "import keras\n",
    "from keras.datasets import mnist\n",
    "from keras.models import Sequential\n",
    "from keras.layers import Dense,Dropout,Activation,Flatten\n",
    "from keras.utils import to_categorical\n",
    "\n",
    "(X_train,y_train),(X_test,y_test)=mnist.load_data()\n",
    "\n",
    "X_train=X_train.reshape(60000,28*28*1)\n",
    "X_test=X_test.reshape(10000,28*28*1)\n",
    "\n",
    "X_train=X_train.astype('float32')\n",
    "X_test=X_test.astype('float32')\n",
    "\n",
    "#preprocessing\n",
    "X_train/=255.0\n",
    "X_test/=255.0"
   ]
  },
  {
   "cell_type": "code",
   "execution_count": 19,
   "metadata": {},
   "outputs": [],
   "source": [
    "y_train=to_categorical(y_train,10)\n",
    "y_test=to_categorical(y_test,10)"
   ]
  },
  {
   "cell_type": "code",
   "execution_count": 20,
   "metadata": {},
   "outputs": [],
   "source": [
    "initializers=tf.keras.initializers.glorot_normal()\n",
    "model=tf.keras.models.Sequential([\n",
    "tf.keras.layers.Dense(1024,input_dim=784,kernel_initializer=initializers,bias_initializer=initializers,activation='relu'),\n",
    "tf.keras.layers.Dense(512,kernel_initializer=initializers,bias_initializer=initializers,activation='relu'),\n",
    "tf.keras.layers.Dense(256,kernel_initializer=initializers,bias_initializer=initializers,activation='relu'),\n",
    "tf.keras.layers.Dense(10,kernel_initializer=initializers,bias_initializer=initializers,activation='softmax')])"
   ]
  },
  {
   "cell_type": "code",
   "execution_count": 21,
   "metadata": {
    "scrolled": true
   },
   "outputs": [
    {
     "name": "stdout",
     "output_type": "stream",
     "text": [
      "Epoch 1/50\n",
      "1875/1875 [==============================] - 17s 9ms/step - loss: 0.5223 - accuracy: 0.8657 - val_loss: 0.2575 - val_accuracy: 0.9263\n",
      "Epoch 2/50\n",
      "1875/1875 [==============================] - 17s 9ms/step - loss: 0.2337 - accuracy: 0.9326 - val_loss: 0.1998 - val_accuracy: 0.9440\n",
      "Epoch 3/50\n",
      "1875/1875 [==============================] - 16s 9ms/step - loss: 0.1788 - accuracy: 0.9480 - val_loss: 0.1571 - val_accuracy: 0.9538\n",
      "Epoch 4/50\n",
      "1875/1875 [==============================] - 17s 9ms/step - loss: 0.1438 - accuracy: 0.9581 - val_loss: 0.1332 - val_accuracy: 0.9613\n",
      "Epoch 5/50\n",
      "1875/1875 [==============================] - 17s 9ms/step - loss: 0.1194 - accuracy: 0.9660 - val_loss: 0.1135 - val_accuracy: 0.9660\n",
      "Epoch 6/50\n",
      "1875/1875 [==============================] - 17s 9ms/step - loss: 0.1005 - accuracy: 0.9714 - val_loss: 0.1022 - val_accuracy: 0.9683\n",
      "Epoch 7/50\n",
      "1875/1875 [==============================] - 16s 9ms/step - loss: 0.0866 - accuracy: 0.9751 - val_loss: 0.0949 - val_accuracy: 0.9709\n",
      "Epoch 8/50\n",
      "1875/1875 [==============================] - 17s 9ms/step - loss: 0.0746 - accuracy: 0.9785 - val_loss: 0.0864 - val_accuracy: 0.9740\n",
      "Epoch 9/50\n",
      "1875/1875 [==============================] - 17s 9ms/step - loss: 0.0648 - accuracy: 0.9817 - val_loss: 0.0870 - val_accuracy: 0.9741\n",
      "Epoch 10/50\n",
      "1875/1875 [==============================] - 17s 9ms/step - loss: 0.0563 - accuracy: 0.9845 - val_loss: 0.0818 - val_accuracy: 0.9754\n",
      "Epoch 11/50\n",
      "1875/1875 [==============================] - 17s 9ms/step - loss: 0.0497 - accuracy: 0.9863 - val_loss: 0.0797 - val_accuracy: 0.9750\n",
      "Epoch 12/50\n",
      "1875/1875 [==============================] - 17s 9ms/step - loss: 0.0439 - accuracy: 0.9883 - val_loss: 0.0720 - val_accuracy: 0.9776\n",
      "Epoch 13/50\n",
      "1875/1875 [==============================] - 17s 9ms/step - loss: 0.0387 - accuracy: 0.9898 - val_loss: 0.0688 - val_accuracy: 0.9794\n",
      "Epoch 14/50\n",
      "1875/1875 [==============================] - 17s 9ms/step - loss: 0.0340 - accuracy: 0.9914 - val_loss: 0.0719 - val_accuracy: 0.9772\n",
      "Epoch 15/50\n",
      "1875/1875 [==============================] - 17s 9ms/step - loss: 0.0302 - accuracy: 0.9928 - val_loss: 0.0682 - val_accuracy: 0.9788\n",
      "Epoch 16/50\n",
      "1875/1875 [==============================] - 17s 9ms/step - loss: 0.0264 - accuracy: 0.9940 - val_loss: 0.0669 - val_accuracy: 0.9791\n"
     ]
    }
   ],
   "source": [
    "#compile\n",
    "model.compile(optimizer='sgd',loss='categorical_crossentropy',metrics=['accuracy'])\n",
    "\n",
    "cb=tf.keras.callbacks.EarlyStopping(patience=3,monitor='val_accuracy',restore_best_weights=True)\n",
    "\n",
    "history=model.fit(X_train,y_train,epochs=50,validation_data=(X_test,y_test),callbacks=[cb])"
   ]
  }
 ],
 "metadata": {
  "kernelspec": {
   "display_name": "Python 3.8.2 64-bit",
   "language": "python",
   "name": "python38264bit2fa636e438634573a999bbece796eff6"
  },
  "language_info": {
   "codemirror_mode": {
    "name": "ipython",
    "version": 3
   },
   "file_extension": ".py",
   "mimetype": "text/x-python",
   "name": "python",
   "nbconvert_exporter": "python",
   "pygments_lexer": "ipython3",
   "version": "3.8.3"
  }
 },
 "nbformat": 4,
 "nbformat_minor": 4
}
